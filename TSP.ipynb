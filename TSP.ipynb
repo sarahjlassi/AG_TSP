{
  "nbformat": 4,
  "nbformat_minor": 0,
  "metadata": {
    "colab": {
      "provenance": [],
      "include_colab_link": true
    },
    "kernelspec": {
      "name": "python3",
      "display_name": "Python 3"
    },
    "language_info": {
      "name": "python"
    }
  },
  "cells": [
    {
      "cell_type": "markdown",
      "metadata": {
        "id": "view-in-github",
        "colab_type": "text"
      },
      "source": [
        "<a href=\"https://colab.research.google.com/github/sarahjlassi/AG_TSP/blob/main/TSP.ipynb\" target=\"_parent\"><img src=\"https://colab.research.google.com/assets/colab-badge.svg\" alt=\"Open In Colab\"/></a>"
      ]
    },
    {
      "cell_type": "code",
      "execution_count": 1,
      "metadata": {
        "id": "BGoUJBam79OO"
      },
      "outputs": [],
      "source": [
        "import random\n",
        "import math\n",
        "\n",
        "POPULATION_SIZE = 5\n",
        "NB_GENES = 15\n",
        "MUTATION_RATE = 0.2\n",
        "CROSSING_RATE = 0.7\n",
        "\n",
        "TOURNAMENT_SELECTION_SIZE = 4\n",
        "\n",
        "Villes = []\n",
        "i=0\n",
        "while i < NB_GENES:\n",
        "  ville = (random.randint(0,9),random.randint(0,9))\n",
        "  if ville not in Villes:\n",
        "    Villes.append(ville)\n",
        "    i += 1"
      ]
    },
    {
      "cell_type": "code",
      "source": [
        "Villes"
      ],
      "metadata": {
        "colab": {
          "base_uri": "https://localhost:8080/"
        },
        "id": "5QCi8b6d9o8t",
        "outputId": "5ed7992d-3c83-4885-c293-f83011d39d93"
      },
      "execution_count": null,
      "outputs": [
        {
          "output_type": "execute_result",
          "data": {
            "text/plain": [
              "[(3, 0), (5, 4), (3, 2), (3, 5), (2, 3)]"
            ]
          },
          "metadata": {},
          "execution_count": 2
        }
      ]
    },
    {
      "cell_type": "code",
      "source": [
        "class Chromosome:\n",
        "    '''Chromosome Init'''\n",
        "    def __init__(self, villes):\n",
        "        self.genes = []\n",
        "        self.fitness = 0\n",
        "        i = 0\n",
        "        while i < NB_GENES:\n",
        "          ville = Villes[random.randint(0,NB_GENES - 1)]\n",
        "          if ville not in self.genes:\n",
        "            self.genes.append(ville)\n",
        "            i += 1\n",
        "         \n",
        "    def get_genes(self):\n",
        "        return self.genes\n",
        "\n",
        "    def get_X(self,pos):\n",
        "        return self.genes[pos][0]\n",
        "\n",
        "    def get_Y(self, pos):\n",
        "        return self.genes[pos][1]\n",
        "\n",
        "    def get_fitness(self):\n",
        "        self.fitness = 0\n",
        "\n",
        "        for i in range(NB_GENES-1):\n",
        "          #distance = math.sqrt((x1 - x2)**2 + (y1 - y2)**2)\n",
        "                # self.fitness += math.sqrt((self.genes[i][0] - self.genes[i+1][0])**2 + (self.genes[i][1] - self.genes[i+1][1])**2)\n",
        "\n",
        "                self.fitness += math.sqrt((self.get_X(i) - self.get_X(i+1))**2 + (self.get_Y(i) - self.get_Y(i+1))**2)\n",
        "        self.fitness += math.sqrt((self.get_X(NB_GENES-1) - self.get_X(0))**2 + (self.get_Y(NB_GENES-1) - self.get_Y(0))**2)       \n",
        "        return round(self.fitness, 2) \n",
        "\n",
        "    def __str__(self):\n",
        "        return self.genes.__str__()"
      ],
      "metadata": {
        "id": "YIilwsZV-A_X"
      },
      "execution_count": 2,
      "outputs": []
    },
    {
      "cell_type": "code",
      "source": [
        "Chromosome(Villes).__str__()"
      ],
      "metadata": {
        "colab": {
          "base_uri": "https://localhost:8080/",
          "height": 35
        },
        "id": "H1JUIZjt-Li9",
        "outputId": "4b497890-a15c-49ab-bc12-13e47724378f"
      },
      "execution_count": null,
      "outputs": [
        {
          "output_type": "execute_result",
          "data": {
            "text/plain": [
              "'[(3, 0), (2, 3), (3, 2), (3, 5), (5, 4)]'"
            ],
            "application/vnd.google.colaboratory.intrinsic+json": {
              "type": "string"
            }
          },
          "metadata": {},
          "execution_count": 4
        }
      ]
    },
    {
      "cell_type": "code",
      "source": [
        "class Population:\n",
        "    '''Population Init'''\n",
        "    def __init__(self, size):\n",
        "        self.chromosomes = []\n",
        "        i = 0\n",
        "        while i < size :\n",
        "            self.chromosomes.append( Chromosome(Villes) )\n",
        "            i += 1\n",
        "        self.chromosomes.sort(key=lambda x: x.get_fitness(), reverse=False)\n",
        "\n",
        "    '''Get All Population Chromosomes'''\n",
        "    def get_chromosomes(self):\n",
        "        return self.chromosomes\n",
        "\n",
        "    def print_population(self, gen_number):\n",
        "        print(\"\\n-----------------------Generation Summary---------------------------\")\n",
        "        print(\"--------------------------------------------------------------------\")\n",
        "        print(\"Generation #\", gen_number, \"| Fittest chromosome fitness:\", self.get_chromosomes()[0].get_fitness())\n",
        "        print(\"--------------------------------------------------------------------\")\n",
        "        i = 0\n",
        "        for x in self.get_chromosomes():\n",
        "            print(\"Chromosome #\",i,\" :\",x,\"| Fitness\", x.get_fitness())\n",
        "            i += 1"
      ],
      "metadata": {
        "id": "1Q50EvIr-o_j"
      },
      "execution_count": 3,
      "outputs": []
    },
    {
      "cell_type": "code",
      "source": [
        "Population(5).print_population(0)"
      ],
      "metadata": {
        "colab": {
          "base_uri": "https://localhost:8080/"
        },
        "id": "CYVW6-sn-z8r",
        "outputId": "6e856a30-0b6d-4724-aa12-e00fb7ae4474"
      },
      "execution_count": null,
      "outputs": [
        {
          "output_type": "stream",
          "name": "stdout",
          "text": [
            "\n",
            "-----------------------Generation Summary---------------------------\n",
            "--------------------------------------------------------------------\n",
            "Generation # 0 | Fittest chromosome fitness: 12.46\n",
            "--------------------------------------------------------------------\n",
            "Chromosome # 0  : [(5, 4), (3, 2), (3, 0), (2, 3), (3, 5)] | Fitness 12.46\n",
            "Chromosome # 1  : [(3, 2), (3, 0), (2, 3), (5, 4), (3, 5)] | Fitness 13.56\n",
            "Chromosome # 2  : [(3, 0), (5, 4), (3, 2), (3, 5), (2, 3)] | Fitness 15.7\n",
            "Chromosome # 3  : [(3, 2), (5, 4), (3, 0), (2, 3), (3, 5)] | Fitness 15.7\n",
            "Chromosome # 4  : [(3, 5), (3, 0), (5, 4), (2, 3), (3, 2)] | Fitness 17.05\n"
          ]
        }
      ]
    },
    {
      "cell_type": "code",
      "source": [
        "def select_tournament(pop):\n",
        "    tournament_pop = Population(0)\n",
        "    i = 0\n",
        "    while i < TOURNAMENT_SELECTION_SIZE :\n",
        "        tournament_pop.get_chromosomes().append(pop.get_chromosomes()[random.randrange(0,POPULATION_SIZE)])\n",
        "        i += 1\n",
        "    tournament_pop.get_chromosomes().sort(key=lambda x: x.get_fitness(), reverse=False)\n",
        "    return tournament_pop.get_chromosomes()[0]"
      ],
      "metadata": {
        "id": "Ncl9YOYb_G_D"
      },
      "execution_count": 4,
      "outputs": []
    },
    {
      "cell_type": "code",
      "source": [
        "def crossover_chromosomes(parent1, parent2):\n",
        "    if random.random() < CROSSING_RATE:\n",
        "      villes = []\n",
        "      child1 = Chromosome(villes)\n",
        "      child2 = Chromosome(villes)\n",
        "\n",
        "      '''One Point Cross Over'''\n",
        "      index = random.randrange(1, NB_GENES)\n",
        "      sub_1_child1 = parent1.get_genes()[:index]\n",
        "      sub_2_child1 = [item for item in parent2.get_genes() if item not in sub_1_child1]\n",
        "      child1.genes = sub_1_child1 + sub_2_child1\n",
        "      sub_1_child2 = parent2.get_genes()[:index]\n",
        "      sub_2_child2 = [item for item in parent1.get_genes() if item not in sub_1_child2]\n",
        "      child2.genes = sub_1_child2 + sub_2_child2\n",
        "\n",
        "\n",
        "      print(\"\\nMaking a cross\")\n",
        "      print(\"Parent1: \",parent1.get_genes())\n",
        "      print(\"Parent2: \",parent2.get_genes())\n",
        "      print(\"Child1 : \", child1.get_genes())\n",
        "      print(\"Child2 : \", child2.get_genes())\n",
        "\n",
        "      return child1, child2\n",
        "\n",
        "    else:\n",
        "      return parent1, parent2"
      ],
      "metadata": {
        "id": "EpWia0P4_bYr"
      },
      "execution_count": 5,
      "outputs": []
    },
    {
      "cell_type": "code",
      "source": [
        "def mutate(individual):\n",
        "    mutate_index1 = random.randrange(len(individual.get_genes()))\n",
        "    mutate_index2 = random.randrange(len(individual.get_genes()))\n",
        "    individual.get_genes()[mutate_index1], individual.get_genes()[mutate_index2]= individual.get_genes()[mutate_index2], individual.get_genes()[mutate_index1]"
      ],
      "metadata": {
        "id": "GSJGao54_yFT"
      },
      "execution_count": 8,
      "outputs": []
    },
    {
      "cell_type": "code",
      "source": [
        "def evolve(pop):\n",
        "    new_pop = Population(0)\n",
        "    print(\"\\nCrossover and Mutation Trace:\")\n",
        "    while new_pop.get_chromosomes().__len__() < POPULATION_SIZE:\n",
        "        parent1 = select_tournament(pop)\n",
        "        parent2 = select_tournament(pop)\n",
        "\n",
        "        child1, child2 = crossover_chromosomes(parent1, parent2)\n",
        "\n",
        "        mutate(child1)\n",
        "        mutate(child2)\n",
        "\n",
        "        new_pop.get_chromosomes().append(child1)\n",
        "\n",
        "        if len(new_pop.get_chromosomes()) < POPULATION_SIZE:\n",
        "            new_pop.get_chromosomes().append(child2)\n",
        "\n",
        "    new_pop.get_chromosomes().sort(key=lambda x: x.get_fitness(), reverse=False)   \n",
        "    return new_pop"
      ],
      "metadata": {
        "id": "X2ZY26I2ANVK"
      },
      "execution_count": 9,
      "outputs": []
    },
    {
      "cell_type": "code",
      "source": [
        "generation_number = 0\n",
        "MAX_FITNESS = 10\n",
        "population = Population(POPULATION_SIZE)\n",
        "population.print_population(generation_number)\n",
        "\n",
        "nb = 0\n",
        "while population.get_chromosomes()[0].get_fitness() > MAX_FITNESS and nb < 3 :\n",
        "  nb = nb + 1\n",
        "  generation_number += 1\n",
        "  population = evolve(population)\n",
        "  population.print_population(generation_number)"
      ],
      "metadata": {
        "colab": {
          "base_uri": "https://localhost:8080/"
        },
        "id": "4wQ4eHs-AlKw",
        "outputId": "f0a794a5-2765-41c9-e6be-6ce7daf33fc9"
      },
      "execution_count": 10,
      "outputs": [
        {
          "output_type": "stream",
          "name": "stdout",
          "text": [
            "\n",
            "-----------------------Generation Summary---------------------------\n",
            "--------------------------------------------------------------------\n",
            "Generation # 0 | Fittest chromosome fitness: 71.39\n",
            "--------------------------------------------------------------------\n",
            "Chromosome # 0  : [(7, 5), (8, 6), (4, 7), (0, 2), (1, 9), (2, 7), (3, 2), (1, 8), (6, 7), (2, 3), (4, 4), (9, 1), (7, 1), (0, 4), (7, 2)] | Fitness 71.39\n",
            "Chromosome # 1  : [(2, 3), (7, 2), (7, 5), (1, 9), (9, 1), (7, 1), (2, 7), (1, 8), (4, 7), (3, 2), (4, 4), (0, 4), (8, 6), (6, 7), (0, 2)] | Fitness 72.87\n",
            "Chromosome # 2  : [(0, 4), (1, 8), (7, 5), (0, 2), (7, 2), (9, 1), (2, 7), (8, 6), (3, 2), (4, 7), (6, 7), (7, 1), (4, 4), (1, 9), (2, 3)] | Fitness 80.96\n",
            "Chromosome # 3  : [(0, 2), (2, 7), (8, 6), (2, 3), (7, 1), (1, 9), (1, 8), (7, 5), (0, 4), (4, 4), (4, 7), (9, 1), (6, 7), (7, 2), (3, 2)] | Fitness 81.96\n",
            "Chromosome # 4  : [(2, 7), (7, 5), (6, 7), (0, 2), (7, 2), (0, 4), (3, 2), (8, 6), (4, 4), (2, 3), (7, 1), (1, 8), (9, 1), (4, 7), (1, 9)] | Fitness 85.32\n",
            "\n",
            "Crossover and Mutation Trace:\n",
            "\n",
            "Making a cross\n",
            "Parent1:  [(2, 3), (7, 2), (7, 5), (1, 9), (9, 1), (7, 1), (2, 7), (1, 8), (4, 7), (3, 2), (4, 4), (0, 4), (8, 6), (6, 7), (0, 2)]\n",
            "Parent2:  [(2, 3), (7, 2), (7, 5), (1, 9), (9, 1), (7, 1), (2, 7), (1, 8), (4, 7), (3, 2), (4, 4), (0, 4), (8, 6), (6, 7), (0, 2)]\n",
            "Child1 :  [(2, 3), (7, 2), (7, 5), (1, 9), (9, 1), (7, 1), (2, 7), (1, 8), (4, 7), (3, 2), (4, 4), (0, 4), (8, 6), (6, 7), (0, 2)]\n",
            "Child2 :  [(2, 3), (7, 2), (7, 5), (1, 9), (9, 1), (7, 1), (2, 7), (1, 8), (4, 7), (3, 2), (4, 4), (0, 4), (8, 6), (6, 7), (0, 2)]\n",
            "\n",
            "Making a cross\n",
            "Parent1:  [(2, 3), (7, 2), (7, 5), (1, 9), (9, 1), (7, 1), (2, 7), (1, 8), (4, 7), (3, 2), (4, 4), (0, 4), (8, 6), (6, 7), (0, 2)]\n",
            "Parent2:  [(7, 5), (8, 6), (4, 7), (0, 2), (1, 9), (2, 7), (3, 2), (1, 8), (6, 7), (2, 3), (4, 4), (9, 1), (7, 1), (0, 4), (7, 2)]\n",
            "Child1 :  [(2, 3), (7, 2), (7, 5), (1, 9), (9, 1), (7, 1), (2, 7), (1, 8), (4, 7), (3, 2), (4, 4), (8, 6), (0, 2), (6, 7), (0, 4)]\n",
            "Child2 :  [(7, 5), (8, 6), (4, 7), (0, 2), (1, 9), (2, 7), (3, 2), (1, 8), (6, 7), (2, 3), (4, 4), (7, 2), (9, 1), (7, 1), (0, 4)]\n",
            "\n",
            "Making a cross\n",
            "Parent1:  [(7, 5), (8, 6), (4, 7), (0, 2), (1, 9), (2, 7), (3, 2), (1, 8), (6, 7), (2, 3), (4, 4), (9, 1), (7, 1), (0, 4), (7, 2)]\n",
            "Parent2:  [(7, 5), (8, 6), (4, 7), (0, 2), (1, 9), (2, 7), (3, 2), (1, 8), (6, 7), (2, 3), (4, 4), (9, 1), (7, 1), (0, 4), (7, 2)]\n",
            "Child1 :  [(7, 5), (8, 6), (4, 7), (0, 2), (1, 9), (2, 7), (3, 2), (1, 8), (6, 7), (2, 3), (4, 4), (9, 1), (7, 1), (0, 4), (7, 2)]\n",
            "Child2 :  [(7, 5), (8, 6), (4, 7), (0, 2), (1, 9), (2, 7), (3, 2), (1, 8), (6, 7), (2, 3), (4, 4), (9, 1), (7, 1), (0, 4), (7, 2)]\n",
            "\n",
            "-----------------------Generation Summary---------------------------\n",
            "--------------------------------------------------------------------\n",
            "Generation # 1 | Fittest chromosome fitness: 72.88\n",
            "--------------------------------------------------------------------\n",
            "Chromosome # 0  : [(7, 5), (8, 6), (4, 7), (0, 2), (1, 9), (2, 7), (3, 2), (1, 8), (7, 2), (2, 3), (4, 4), (9, 1), (7, 1), (0, 4), (6, 7)] | Fitness 72.88\n",
            "Chromosome # 1  : [(2, 3), (7, 2), (7, 5), (1, 9), (7, 1), (9, 1), (2, 7), (1, 8), (4, 7), (3, 2), (4, 4), (0, 4), (8, 6), (6, 7), (0, 2)] | Fitness 72.97\n",
            "Chromosome # 2  : [(2, 3), (7, 5), (7, 2), (1, 9), (9, 1), (7, 1), (2, 7), (1, 8), (4, 7), (3, 2), (4, 4), (0, 4), (8, 6), (6, 7), (0, 2)] | Fitness 75.17\n",
            "Chromosome # 3  : [(7, 5), (8, 6), (4, 7), (0, 2), (1, 9), (7, 1), (3, 2), (1, 8), (6, 7), (2, 3), (4, 4), (7, 2), (9, 1), (2, 7), (0, 4)] | Fitness 78.19\n",
            "Chromosome # 4  : [(2, 3), (9, 1), (7, 5), (1, 9), (7, 2), (7, 1), (2, 7), (1, 8), (4, 7), (3, 2), (4, 4), (8, 6), (0, 2), (6, 7), (0, 4)] | Fitness 79.08\n",
            "\n",
            "Crossover and Mutation Trace:\n",
            "\n",
            "Making a cross\n",
            "Parent1:  [(7, 5), (8, 6), (4, 7), (0, 2), (1, 9), (2, 7), (3, 2), (1, 8), (7, 2), (2, 3), (4, 4), (9, 1), (7, 1), (0, 4), (6, 7)]\n",
            "Parent2:  [(7, 5), (8, 6), (4, 7), (0, 2), (1, 9), (2, 7), (3, 2), (1, 8), (7, 2), (2, 3), (4, 4), (9, 1), (7, 1), (0, 4), (6, 7)]\n",
            "Child1 :  [(7, 5), (8, 6), (4, 7), (0, 2), (1, 9), (2, 7), (3, 2), (1, 8), (7, 2), (2, 3), (4, 4), (9, 1), (7, 1), (0, 4), (6, 7)]\n",
            "Child2 :  [(7, 5), (8, 6), (4, 7), (0, 2), (1, 9), (2, 7), (3, 2), (1, 8), (7, 2), (2, 3), (4, 4), (9, 1), (7, 1), (0, 4), (6, 7)]\n",
            "\n",
            "Making a cross\n",
            "Parent1:  [(7, 5), (8, 6), (4, 7), (0, 2), (1, 9), (2, 7), (3, 2), (1, 8), (7, 2), (2, 3), (4, 4), (9, 1), (7, 1), (0, 4), (6, 7)]\n",
            "Parent2:  [(7, 5), (8, 6), (4, 7), (0, 2), (1, 9), (2, 7), (3, 2), (1, 8), (7, 2), (2, 3), (4, 4), (9, 1), (7, 1), (0, 4), (6, 7)]\n",
            "Child1 :  [(7, 5), (8, 6), (4, 7), (0, 2), (1, 9), (2, 7), (3, 2), (1, 8), (7, 2), (2, 3), (4, 4), (9, 1), (7, 1), (0, 4), (6, 7)]\n",
            "Child2 :  [(7, 5), (8, 6), (4, 7), (0, 2), (1, 9), (2, 7), (3, 2), (1, 8), (7, 2), (2, 3), (4, 4), (9, 1), (7, 1), (0, 4), (6, 7)]\n",
            "\n",
            "-----------------------Generation Summary---------------------------\n",
            "--------------------------------------------------------------------\n",
            "Generation # 2 | Fittest chromosome fitness: 70.24\n",
            "--------------------------------------------------------------------\n",
            "Chromosome # 0  : [(7, 5), (8, 6), (4, 7), (0, 2), (0, 4), (2, 7), (3, 2), (1, 8), (7, 2), (2, 3), (4, 4), (9, 1), (7, 1), (1, 9), (6, 7)] | Fitness 70.24\n",
            "Chromosome # 1  : [(7, 5), (8, 6), (4, 7), (0, 2), (1, 9), (2, 7), (3, 2), (7, 2), (1, 8), (2, 3), (4, 4), (9, 1), (7, 1), (0, 4), (6, 7)] | Fitness 70.56\n",
            "Chromosome # 2  : [(7, 5), (8, 6), (4, 7), (0, 2), (1, 9), (2, 7), (7, 2), (1, 8), (3, 2), (2, 3), (4, 4), (9, 1), (7, 1), (0, 4), (6, 7)] | Fitness 71.17\n",
            "Chromosome # 3  : [(7, 5), (8, 6), (4, 7), (0, 2), (1, 9), (2, 7), (3, 2), (1, 8), (7, 2), (2, 3), (4, 4), (9, 1), (7, 1), (0, 4), (6, 7)] | Fitness 72.88\n",
            "Chromosome # 4  : [(2, 3), (6, 7), (7, 2), (1, 9), (9, 1), (7, 1), (2, 7), (1, 8), (4, 7), (3, 2), (4, 4), (0, 4), (8, 6), (7, 5), (0, 2)] | Fitness 76.52\n",
            "\n",
            "Crossover and Mutation Trace:\n",
            "\n",
            "Making a cross\n",
            "Parent1:  [(7, 5), (8, 6), (4, 7), (0, 2), (1, 9), (2, 7), (3, 2), (7, 2), (1, 8), (2, 3), (4, 4), (9, 1), (7, 1), (0, 4), (6, 7)]\n",
            "Parent2:  [(7, 5), (8, 6), (4, 7), (0, 2), (1, 9), (2, 7), (3, 2), (7, 2), (1, 8), (2, 3), (4, 4), (9, 1), (7, 1), (0, 4), (6, 7)]\n",
            "Child1 :  [(7, 5), (8, 6), (4, 7), (0, 2), (1, 9), (2, 7), (3, 2), (7, 2), (1, 8), (2, 3), (4, 4), (9, 1), (7, 1), (0, 4), (6, 7)]\n",
            "Child2 :  [(7, 5), (8, 6), (4, 7), (0, 2), (1, 9), (2, 7), (3, 2), (7, 2), (1, 8), (2, 3), (4, 4), (9, 1), (7, 1), (0, 4), (6, 7)]\n",
            "\n",
            "-----------------------Generation Summary---------------------------\n",
            "--------------------------------------------------------------------\n",
            "Generation # 3 | Fittest chromosome fitness: 71.91\n",
            "--------------------------------------------------------------------\n",
            "Chromosome # 0  : [(7, 5), (8, 6), (0, 2), (4, 7), (1, 9), (2, 7), (3, 2), (7, 2), (1, 8), (2, 3), (4, 4), (9, 1), (7, 1), (0, 4), (6, 7)] | Fitness 71.91\n",
            "Chromosome # 1  : [(7, 5), (8, 6), (4, 7), (0, 2), (1, 9), (2, 7), (7, 2), (1, 8), (3, 2), (2, 3), (4, 4), (9, 1), (0, 4), (7, 1), (6, 7)] | Fitness 78.03\n",
            "Chromosome # 2  : [(7, 5), (2, 3), (4, 7), (0, 2), (1, 9), (2, 7), (3, 2), (7, 2), (1, 8), (8, 6), (4, 4), (9, 1), (7, 1), (0, 4), (6, 7)] | Fitness 79.3\n",
            "Chromosome # 3  : [(7, 5), (8, 6), (4, 7), (0, 2), (0, 4), (9, 1), (3, 2), (1, 8), (7, 2), (1, 9), (4, 4), (2, 7), (7, 1), (2, 3), (6, 7)] | Fitness 84.06\n",
            "Chromosome # 4  : [(7, 5), (8, 6), (4, 7), (0, 2), (0, 4), (9, 1), (3, 2), (1, 8), (7, 2), (1, 9), (4, 4), (2, 7), (7, 1), (2, 3), (6, 7)] | Fitness 84.06\n"
          ]
        }
      ]
    }
  ]
}
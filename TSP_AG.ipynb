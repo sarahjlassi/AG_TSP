{
  "nbformat": 4,
  "nbformat_minor": 0,
  "metadata": {
    "colab": {
      "provenance": [],
      "include_colab_link": true
    },
    "kernelspec": {
      "name": "python3",
      "display_name": "Python 3"
    },
    "language_info": {
      "name": "python"
    }
  },
  "cells": [
    {
      "cell_type": "markdown",
      "metadata": {
        "id": "view-in-github",
        "colab_type": "text"
      },
      "source": [
        "<a href=\"https://colab.research.google.com/github/sarahjlassi/TP_AG_TSP/blob/main/TSP_AG.ipynb\" target=\"_parent\"><img src=\"https://colab.research.google.com/assets/colab-badge.svg\" alt=\"Open In Colab\"/></a>"
      ]
    },
    {
      "cell_type": "code",
      "execution_count": null,
      "metadata": {
        "id": "2hwyxVmosGr7"
      },
      "outputs": [],
      "source": [
        "import random\n",
        "import math\n",
        "\n",
        "POPULATION_SIZE = 5\n",
        "NB_GENES = 5\n",
        "MUTATION_RATE = 0.2\n",
        "CROSSING_RATE = 0.7\n",
        "\n",
        "TOURNAMENT_SELECTION_SIZE = 4\n",
        "\n",
        "# nombre de combinaisons possible = factoriel de NB_GENES \n",
        "# donc pour eviter la redandance des individus on peut definir la taille de la population inferieur ou egale aux total des combinaisons\n",
        "\n",
        "# Villes = [(4, 8), (5, 5), (7, 3), (3, 7), (2, 6), (0, 7), (9, 4), (6, 7), (9, 8), (7, 4)]\n",
        "\n",
        "# ou bien \n",
        "Villes = []\n",
        "i=0\n",
        "while i < NB_GENES:\n",
        "  ville = (random.randint(0,9),random.randint(0,9))\n",
        "  if ville not in Villes:\n",
        "    Villes.append(ville)\n",
        "    i += 1"
      ]
    },
    {
      "cell_type": "code",
      "source": [
        "Villes"
      ],
      "metadata": {
        "colab": {
          "base_uri": "https://localhost:8080/"
        },
        "id": "hC3WpayeCcRe",
        "outputId": "5908b6e6-9e82-4fb5-a27c-fb95e2f68fdc"
      },
      "execution_count": null,
      "outputs": [
        {
          "output_type": "execute_result",
          "data": {
            "text/plain": [
              "[(9, 6), (0, 9), (1, 8), (1, 6), (9, 8)]"
            ]
          },
          "metadata": {},
          "execution_count": 2
        }
      ]
    },
    {
      "cell_type": "code",
      "source": [
        "class Chromosome:\n",
        "    '''Chromosome Init'''\n",
        "    def __init__(self, villes):\n",
        "        self.genes = []\n",
        "        self.fitness = 0\n",
        "        i = 0\n",
        "        while i < NB_GENES:\n",
        "          ville = Villes[random.randint(0,NB_GENES - 1)]\n",
        "          if ville not in self.genes:\n",
        "            self.genes.append(ville)\n",
        "            i += 1\n",
        "         \n",
        "          \n",
        "    def get_genes(self):\n",
        "        return self.genes\n",
        "\n",
        "    def get_X(self,pos):\n",
        "        return self.genes[pos][0]\n",
        "\n",
        "    def get_Y(self, pos):\n",
        "        return self.genes[pos][1]\n",
        "\n",
        "    def get_fitness(self):\n",
        "        self.fitness = 0\n",
        "\n",
        "        for i in range(NB_GENES-1):\n",
        "          #distance = math.sqrt((x1 - x2)**2 + (y1 - y2)**2)\n",
        "                # self.fitness += math.sqrt((self.genes[i][0] - self.genes[i+1][0])**2 + (self.genes[i][1] - self.genes[i+1][1])**2)\n",
        "\n",
        "                self.fitness += math.sqrt((self.get_X(i) - self.get_X(i+1))**2 + (self.get_Y(i) - self.get_Y(i+1))**2)\n",
        "        self.fitness += math.sqrt((self.get_X(NB_GENES-1) - self.get_X(0))**2 + (self.get_Y(NB_GENES-1) - self.get_Y(0))**2)       \n",
        "        return round(self.fitness, 2) \n",
        "\n",
        "    def __str__(self):\n",
        "        return self.genes.__str__()"
      ],
      "metadata": {
        "id": "nsnhRjeSsPXy"
      },
      "execution_count": null,
      "outputs": []
    },
    {
      "cell_type": "code",
      "source": [
        "Chromosome(Villes).__str__()"
      ],
      "metadata": {
        "colab": {
          "base_uri": "https://localhost:8080/",
          "height": 36
        },
        "id": "_FR_G2ov7y57",
        "outputId": "d2b78568-ac30-4a25-e6cf-ed44142b6f62"
      },
      "execution_count": null,
      "outputs": [
        {
          "output_type": "execute_result",
          "data": {
            "text/plain": [
              "'[(0, 9), (9, 6), (1, 6), (9, 8), (1, 8)]'"
            ],
            "application/vnd.google.colaboratory.intrinsic+json": {
              "type": "string"
            }
          },
          "metadata": {},
          "execution_count": 4
        }
      ]
    },
    {
      "cell_type": "code",
      "source": [
        "class Population:\n",
        "    '''Population Init'''\n",
        "    def __init__(self, size):\n",
        "        self.chromosomes = []\n",
        "        i = 0\n",
        "        while i < size :\n",
        "            self.chromosomes.append( Chromosome(Villes) )\n",
        "            i += 1\n",
        "        self.chromosomes.sort(key=lambda x: x.get_fitness(), reverse=False)\n",
        "\n",
        "    '''Get All Population Chromosomes'''\n",
        "    def get_chromosomes(self):\n",
        "        return self.chromosomes\n",
        "\n",
        "    def print_population(self, gen_number):\n",
        "        print(\"\\n-----------------------Generation Summary---------------------------\")\n",
        "        print(\"--------------------------------------------------------------------\")\n",
        "        print(\"Generation #\", gen_number, \"| Fittest chromosome fitness:\", self.get_chromosomes()[0].get_fitness())\n",
        "        # print(\"Target chromosome\", TARGET_CHROMOSOME)\n",
        "        print(\"--------------------------------------------------------------------\")\n",
        "        i = 0\n",
        "        for x in self.get_chromosomes():\n",
        "            print(\"Chromosome #\",i,\" :\",x,\"| Fitness\", x.get_fitness())\n",
        "            i += 1"
      ],
      "metadata": {
        "id": "HKyB0MmJtfOw"
      },
      "execution_count": null,
      "outputs": []
    },
    {
      "cell_type": "code",
      "source": [
        "Population(5).print_population(0)"
      ],
      "metadata": {
        "colab": {
          "base_uri": "https://localhost:8080/"
        },
        "id": "byXLqsVe8aQH",
        "outputId": "077c5551-0292-4129-ced5-f391de28cc24"
      },
      "execution_count": null,
      "outputs": [
        {
          "output_type": "stream",
          "name": "stdout",
          "text": [
            "\n",
            "-----------------------Generation Summary---------------------------\n",
            "--------------------------------------------------------------------\n",
            "Generation # 0 | Fittest chromosome fitness: 22.58\n",
            "--------------------------------------------------------------------\n",
            "Chromosome # 0  : [(1, 8), (0, 9), (1, 6), (9, 6), (9, 8)] | Fitness 22.58\n",
            "Chromosome # 1  : [(9, 8), (9, 6), (1, 8), (0, 9), (1, 6)] | Fitness 23.07\n",
            "Chromosome # 2  : [(9, 8), (1, 6), (1, 8), (0, 9), (9, 6)] | Fitness 23.15\n",
            "Chromosome # 3  : [(9, 8), (0, 9), (1, 6), (1, 8), (9, 6)] | Fitness 24.46\n",
            "Chromosome # 4  : [(1, 6), (0, 9), (9, 6), (1, 8), (9, 8)] | Fitness 37.14\n"
          ]
        }
      ]
    },
    {
      "cell_type": "code",
      "source": [
        "def select_tournament(pop):\n",
        "    tournament_pop = Population(0)\n",
        "    i = 0\n",
        "    while i < TOURNAMENT_SELECTION_SIZE :\n",
        "        tournament_pop.get_chromosomes().append(pop.get_chromosomes()[random.randrange(0,POPULATION_SIZE)])\n",
        "        i += 1\n",
        "    tournament_pop.get_chromosomes().sort(key=lambda x: x.get_fitness(), reverse=False)\n",
        "    return tournament_pop.get_chromosomes()[0]"
      ],
      "metadata": {
        "id": "cFDkAYQxt6zu"
      },
      "execution_count": null,
      "outputs": []
    },
    {
      "cell_type": "code",
      "source": [
        "def crossover_chromosomes(parent1, parent2):\n",
        "    if random.random() < CROSSING_RATE:\n",
        "      villes = []\n",
        "      child1 = Chromosome(villes)\n",
        "      child2 = Chromosome(villes)\n",
        "\n",
        "      '''One Point Cross Over'''\n",
        "      index = random.randrange(1, NB_GENES)\n",
        "      # child1.genes = parent1.get_genes()[:index] + parent2.get_genes()[index:]\n",
        "      sub_1_child1 = parent1.get_genes()[:index]\n",
        "      sub_2_child1 = [item for item in parent2.get_genes() if item not in sub_1_child1]\n",
        "      child1.genes = sub_1_child1 + sub_2_child1\n",
        "      # child2.genes = parent2.get_genes()[:index] + parent1.get_genes()[index:]\n",
        "      sub_1_child2 = parent2.get_genes()[:index]\n",
        "      sub_2_child2 = [item for item in parent1.get_genes() if item not in sub_1_child2]\n",
        "      child2.genes = sub_1_child2 + sub_2_child2\n",
        "\n",
        "\n",
        "      print(\"\\nMaking a cross\")\n",
        "      print(\"Parent1: \",parent1.get_genes())\n",
        "      print(\"Parent2: \",parent2.get_genes())\n",
        "      print(\"Child1 : \", child1.get_genes())\n",
        "      print(\"Child2 : \", child2.get_genes())\n",
        "\n",
        "      return child1, child2\n",
        "\n",
        "    else:\n",
        "      return parent1, parent2"
      ],
      "metadata": {
        "id": "gNbfTkdguLnK"
      },
      "execution_count": null,
      "outputs": []
    },
    {
      "cell_type": "code",
      "source": [
        "# cross over with two points \n",
        "\n",
        "\n",
        "\n",
        "# def crossover_chromosomes_twoPoints(parent1, parent2):\n",
        "#     if random.random() < CROSSING_RATE: \n",
        "#         child1 = Chromosome(Villes)\n",
        "#         child2 = Chromosome(Villes)\n",
        "\n",
        "#         '''One Point Cross Over'''\n",
        "#         index1 = random.randrange(1, NB_GENES)\n",
        "#         index2 = random.randrange(1, NB_GENES)\n",
        "#         while (index2 == index1):\n",
        "#           index2 = random.randrange(1, NB_GENES)\n",
        "#         # child1.genes = parent1.get_genes()[:index] + parent2.get_genes()[index:]\n",
        "#         child1.genes = parent1.get_genes()[:index1] + parent2[index1:index2] + [item for item in parent1.get_genes() if item not in child1.genes]\n",
        "#         # child2.genes = parent2.get_genes()[:index] + parent1.get_genes()[index:]\n",
        "#         child2.genes = parent2.get_genes()[:index1] + parent1[index1:index2] + [item for item in parent2.get_genes() if item not in child2.genes]\n",
        "\n",
        "\n",
        "#         print(\"\\nMaking a cross\")\n",
        "#         print(\"Parent1: \",parent1.get_genes())\n",
        "#         print(\"Parent2: \",parent2.get_genes())\n",
        "#         print(\"Child1 : \", child1.get_genes())\n",
        "#         print(\"Child2 : \", child2.get_genes())\n",
        "\n",
        "#         return child1, child2\n",
        "#     else:\n",
        "#         return parent1, parent2"
      ],
      "metadata": {
        "id": "sBwkDxYKwb4y"
      },
      "execution_count": null,
      "outputs": []
    },
    {
      "cell_type": "code",
      "source": [
        "def mutate(individual):\n",
        "    mutate_index1 = random.randrange(len(individual.get_genes()))\n",
        "    mutate_index2 = random.randrange(len(individual.get_genes()))\n",
        "\n",
        "    \n",
        "    individual.get_genes()[mutate_index1], individual.get_genes()[mutate_index2] = individual.get_genes()[mutate_index2], individual.get_genes()[mutate_index1]\n"
      ],
      "metadata": {
        "id": "_aWpx_BzzgZg"
      },
      "execution_count": null,
      "outputs": []
    },
    {
      "cell_type": "code",
      "source": [
        "def evolve(pop):\n",
        "    new_pop = Population(0)\n",
        "    #'''Keep The Fittests Chromosomes'''\n",
        "    #for i in range(NUMBER_OF_ELITE_CHROMOSOMES):\n",
        "    #    new_pop.get_chromosomes().append(pop.get_chromosomes()[i])\n",
        "\n",
        "    print(\"\\nCrossover and Mutation Trace:\")\n",
        "    while new_pop.get_chromosomes().__len__() < POPULATION_SIZE:\n",
        "        parent1 = select_tournament(pop)\n",
        "        parent2 = select_tournament(pop)\n",
        "\n",
        "\n",
        "        child1, child2 = crossover_chromosomes(parent1, parent2)\n",
        "\n",
        "\n",
        "        mutate(child1)\n",
        "        mutate(child2)\n",
        "\n",
        "\n",
        "        new_pop.get_chromosomes().append(child1)\n",
        "\n",
        "        # make sure to not depass the population size if we keep the elite\n",
        "        if len(new_pop.get_chromosomes()) < POPULATION_SIZE:\n",
        "            new_pop.get_chromosomes().append(child2)\n",
        "\n",
        "    new_pop.get_chromosomes().sort(key=lambda x: x.get_fitness(), reverse=False)   \n",
        "    return new_pop"
      ],
      "metadata": {
        "id": "UM9QZBI_6mAq"
      },
      "execution_count": null,
      "outputs": []
    },
    {
      "cell_type": "code",
      "source": [
        "generation_number = 0\n",
        "MAX_FITNESS = 10\n",
        "population = Population(POPULATION_SIZE)\n",
        "population.print_population(generation_number)\n",
        "\n",
        "nb = 0\n",
        "while population.get_chromosomes()[0].get_fitness() > MAX_FITNESS and nb < 3 :\n",
        "  nb = nb + 1\n",
        "  generation_number += 1\n",
        "  population = evolve(population)\n",
        "  population.print_population(generation_number)\n",
        "    "
      ],
      "metadata": {
        "colab": {
          "base_uri": "https://localhost:8080/"
        },
        "id": "S5LDsUkH6soO",
        "outputId": "5e23fe94-45bf-437e-b002-e7b823f33226"
      },
      "execution_count": null,
      "outputs": [
        {
          "output_type": "stream",
          "name": "stdout",
          "text": [
            "\n",
            "-----------------------Generation Summary---------------------------\n",
            "--------------------------------------------------------------------\n",
            "Generation # 0 | Fittest chromosome fitness: 23.15\n",
            "--------------------------------------------------------------------\n",
            "Chromosome # 0  : [(1, 6), (9, 8), (9, 6), (0, 9), (1, 8)] | Fitness 23.15\n",
            "Chromosome # 1  : [(1, 6), (0, 9), (9, 6), (9, 8), (1, 8)] | Fitness 24.65\n",
            "Chromosome # 2  : [(1, 8), (9, 8), (1, 6), (9, 6), (0, 9)] | Fitness 35.15\n",
            "Chromosome # 3  : [(9, 6), (1, 8), (9, 8), (0, 9), (1, 6)] | Fitness 36.46\n",
            "Chromosome # 4  : [(0, 9), (9, 8), (1, 6), (1, 8), (9, 6)] | Fitness 37.03\n",
            "\n",
            "Crossover and Mutation Trace:\n",
            "\n",
            "Making a cross\n",
            "Parent1:  [(1, 6), (9, 8), (9, 6), (0, 9), (1, 8)]\n",
            "Parent2:  [(1, 6), (9, 8), (9, 6), (0, 9), (1, 8)]\n",
            "Child1 :  [(1, 6), (9, 8), (9, 6), (0, 9), (1, 8)]\n",
            "Child2 :  [(1, 6), (9, 8), (9, 6), (0, 9), (1, 8)]\n",
            "\n",
            "Making a cross\n",
            "Parent1:  [(1, 6), (9, 8), (9, 6), (0, 9), (1, 8)]\n",
            "Parent2:  [(1, 6), (9, 8), (9, 6), (0, 9), (1, 8)]\n",
            "Child1 :  [(1, 6), (9, 8), (9, 6), (0, 9), (1, 8)]\n",
            "Child2 :  [(1, 6), (9, 8), (9, 6), (0, 9), (1, 8)]\n",
            "\n",
            "Making a cross\n",
            "Parent1:  [(1, 6), (0, 9), (9, 6), (9, 8), (1, 8)]\n",
            "Parent2:  [(1, 6), (0, 9), (9, 6), (9, 8), (1, 8)]\n",
            "Child1 :  [(1, 6), (0, 9), (9, 6), (9, 8), (1, 8)]\n",
            "Child2 :  [(1, 6), (0, 9), (9, 6), (9, 8), (1, 8)]\n",
            "\n",
            "-----------------------Generation Summary---------------------------\n",
            "--------------------------------------------------------------------\n",
            "Generation # 1 | Fittest chromosome fitness: 23.15\n",
            "--------------------------------------------------------------------\n",
            "Chromosome # 0  : [(1, 6), (9, 8), (9, 6), (0, 9), (1, 8)] | Fitness 23.15\n",
            "Chromosome # 1  : [(9, 8), (0, 9), (9, 6), (1, 6), (1, 8)] | Fitness 36.54\n",
            "Chromosome # 2  : [(1, 6), (1, 8), (9, 6), (0, 9), (9, 8)] | Fitness 37.03\n",
            "Chromosome # 3  : [(1, 6), (1, 8), (9, 6), (0, 9), (9, 8)] | Fitness 37.03\n",
            "Chromosome # 4  : [(1, 6), (1, 8), (9, 6), (0, 9), (9, 8)] | Fitness 37.03\n",
            "\n",
            "Crossover and Mutation Trace:\n",
            "\n",
            "Making a cross\n",
            "Parent1:  [(9, 8), (0, 9), (9, 6), (1, 6), (1, 8)]\n",
            "Parent2:  [(1, 6), (9, 8), (9, 6), (0, 9), (1, 8)]\n",
            "Child1 :  [(9, 8), (1, 6), (9, 6), (0, 9), (1, 8)]\n",
            "Child2 :  [(1, 6), (9, 8), (0, 9), (9, 6), (1, 8)]\n",
            "\n",
            "Making a cross\n",
            "Parent1:  [(9, 6), (9, 8), (1, 6), (0, 9), (1, 8)]\n",
            "Parent2:  [(1, 6), (9, 6), (1, 8), (0, 9), (9, 8)]\n",
            "Child1 :  [(9, 6), (9, 8), (1, 6), (0, 9), (1, 8)]\n",
            "Child2 :  [(1, 6), (9, 6), (1, 8), (0, 9), (9, 8)]\n",
            "\n",
            "-----------------------Generation Summary---------------------------\n",
            "--------------------------------------------------------------------\n",
            "Generation # 2 | Fittest chromosome fitness: 23.07\n",
            "--------------------------------------------------------------------\n",
            "Chromosome # 0  : [(9, 6), (9, 8), (1, 6), (0, 9), (1, 8)] | Fitness 23.07\n",
            "Chromosome # 1  : [(9, 6), (9, 8), (0, 9), (1, 6), (1, 8)] | Fitness 24.46\n",
            "Chromosome # 2  : [(1, 6), (9, 6), (1, 8), (0, 9), (9, 8)] | Fitness 34.96\n",
            "Chromosome # 3  : [(0, 9), (9, 8), (1, 6), (9, 6), (1, 8)] | Fitness 34.96\n",
            "Chromosome # 4  : [(9, 8), (1, 6), (9, 6), (0, 9), (1, 8)] | Fitness 35.15\n",
            "\n",
            "Crossover and Mutation Trace:\n",
            "\n",
            "Making a cross\n",
            "Parent1:  [(9, 6), (9, 8), (1, 6), (0, 9), (1, 8)]\n",
            "Parent2:  [(9, 6), (9, 8), (0, 9), (1, 6), (1, 8)]\n",
            "Child1 :  [(9, 6), (9, 8), (0, 9), (1, 6), (1, 8)]\n",
            "Child2 :  [(9, 6), (9, 8), (1, 6), (0, 9), (1, 8)]\n",
            "\n",
            "Making a cross\n",
            "Parent1:  [(9, 6), (9, 8), (1, 6), (0, 9), (1, 8)]\n",
            "Parent2:  [(9, 6), (9, 8), (0, 9), (1, 6), (1, 8)]\n",
            "Child1 :  [(9, 6), (9, 8), (1, 6), (0, 9), (1, 8)]\n",
            "Child2 :  [(9, 6), (9, 8), (0, 9), (1, 6), (1, 8)]\n",
            "\n",
            "Making a cross\n",
            "Parent1:  [(9, 6), (9, 8), (0, 9), (1, 6), (1, 8)]\n",
            "Parent2:  [(9, 6), (9, 8), (1, 6), (0, 9), (1, 8)]\n",
            "Child1 :  [(9, 6), (9, 8), (0, 9), (1, 6), (1, 8)]\n",
            "Child2 :  [(9, 6), (9, 8), (1, 6), (0, 9), (1, 8)]\n",
            "\n",
            "-----------------------Generation Summary---------------------------\n",
            "--------------------------------------------------------------------\n",
            "Generation # 3 | Fittest chromosome fitness: 22.47\n",
            "--------------------------------------------------------------------\n",
            "Chromosome # 0  : [(0, 9), (9, 8), (9, 6), (1, 6), (1, 8)] | Fitness 22.47\n",
            "Chromosome # 1  : [(9, 6), (9, 8), (1, 6), (0, 9), (1, 8)] | Fitness 23.07\n",
            "Chromosome # 2  : [(9, 6), (9, 8), (0, 9), (1, 6), (1, 8)] | Fitness 24.46\n",
            "Chromosome # 3  : [(1, 8), (9, 8), (0, 9), (1, 6), (9, 6)] | Fitness 36.46\n",
            "Chromosome # 4  : [(1, 8), (9, 8), (1, 6), (0, 9), (9, 6)] | Fitness 37.14\n"
          ]
        }
      ]
    }
  ]
}